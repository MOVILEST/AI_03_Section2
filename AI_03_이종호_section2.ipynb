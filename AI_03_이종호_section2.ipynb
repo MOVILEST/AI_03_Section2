{
  "nbformat": 4,
  "nbformat_minor": 0,
  "metadata": {
    "colab": {
      "name": "AI_03_이종호_section2.ipynb",
      "private_outputs": true,
      "provenance": []
    },
    "kernelspec": {
      "name": "python3",
      "display_name": "Python 3"
    },
    "language_info": {
      "name": "python"
    }
  },
  "cells": [
    {
      "cell_type": "code",
      "metadata": {
        "id": "d1qL3hGo3Ed0"
      },
      "source": [
        "# 필요 라이브러리 설치\n",
        "! pip install -U pandas-profiling[notebook]\n",
        "! pip install category_encoders==2.*\n",
        "! pip install gdown\n",
        "! pip install eli5\n",
        "! pip install shap"
      ],
      "execution_count": null,
      "outputs": []
    },
    {
      "cell_type": "code",
      "metadata": {
        "id": "ZIoINy2Q7fXz"
      },
      "source": [
        "import gdown # 대용량 구글드라이브 파일 다운로드를 위한 라이브러리\n",
        "import pandas as pd\n",
        "import numpy as np\n",
        "from sklearn.model_selection import train_test_split\n",
        "from sklearn.metrics import plot_confusion_matrix\n",
        "import matplotlib.pyplot as plt\n",
        "import seaborn as sns\n",
        "from category_encoders import OrdinalEncoder, TargetEncoder\n",
        "from sklearn.impute import SimpleImputer\n",
        "from sklearn.model_selection import validation_curve\n",
        "from sklearn.model_selection import cross_val_score\n",
        "from sklearn.metrics import fbeta_score\n",
        "from sklearn.pipeline import make_pipeline\n",
        "from sklearn.pipeline import Pipeline\n",
        "from sklearn.linear_model import LinearRegression\n",
        "from sklearn.linear_model import LogisticRegression\n",
        "from sklearn.ensemble import RandomForestClassifier\n",
        "from sklearn.preprocessing import StandardScaler\n",
        "from sklearn.model_selection import RandomizedSearchCV\n",
        "from pandas_profiling import ProfileReport\n",
        "from random import randint\n",
        "import eli5\n",
        "from eli5.sklearn import PermutationImportance\n",
        "from xgboost import XGBClassifier\n",
        "import warnings\n",
        "warnings.simplefilter(action='ignore', category=FutureWarning)"
      ],
      "execution_count": null,
      "outputs": []
    },
    {
      "cell_type": "code",
      "metadata": {
        "id": "fjke93nNi-h9"
      },
      "source": [
        "# 데이터 불러오기\n",
        "\n",
        "# 데이터 선정 이유: 일상생활 관련이 있는 데이터 분석 & 산업규모가 큰 도메인 (금융)\n",
        "\n",
        "# 원본 데이터는 2015년 부터 2018년까지의 Lending Club에 대출을 신청한 사람 중 '승인'을 받은 건 (Row 갯수 1백만 개 이상)\n",
        "# 데이터가 너무 많기 때문에, 가장 최근인 2018년의 데이터만 추출하여 CSV 파일로 구글드라이브에 저장\n",
        "\n",
        "url = 'https://drive.google.com/uc?id=10yg9PH5V1hrFZEfxxh1ozl3VljQEJr7d'\n",
        "output = 'lendingclub_accepted_2018.csv'\n",
        "gdown.download(url, output, quiet=False)"
      ],
      "execution_count": null,
      "outputs": []
    },
    {
      "cell_type": "code",
      "metadata": {
        "id": "NWtjYW607r_g"
      },
      "source": [
        "# 구글드라이브 csv 파일 불러오기\n",
        "# 총 236,057개의 행이 존재\n",
        "df_origin = pd.read_csv(output, encoding= 'unicode_escape')\n",
        "df_origin.info()"
      ],
      "execution_count": null,
      "outputs": []
    },
    {
      "cell_type": "code",
      "metadata": {
        "id": "7VyB8qcsP384"
      },
      "source": [
        "# 이 프로젝트의 목적은 대출인이 대출 시에 제출한 여러 특성이 대출 완납 여부에 어떻게 영향을 미치는지 알아보기 위함\n",
        "# 이를 통해 대출인의 주요 특성만을 가지고 이 사람이 대출을 상환할 수 있는 사람인지를 예측하는 모델을 만드는 것이 목적\n",
        "\n",
        "# 따라서 타겟 특성인 'loan_status'에 대해 먼저 살펴볼 필요가 있음\n",
        "\n",
        "target = 'loan_status'\n",
        "df_origin.loan_status.value_counts()"
      ],
      "execution_count": null,
      "outputs": []
    },
    {
      "cell_type": "code",
      "metadata": {
        "id": "w5KP6ldvQlG3"
      },
      "source": [
        "# 총 5개의 상태값이 존재함\n",
        "\n",
        "#상환 중이면 Current, 완납이면 Fully Paid, 연체 중이면 Late (31-120 days), 단기 연체 중이면 In Grace Period, 상환불가이면 Charged Off\n",
        "#이 중 우리가 궁금한 것은 대출을 완벽히 상환했거나, 상환하지 못했거나 결론 내릴 수 있는 결과 값임\n",
        "#따라서 현재 상환 중이거나, 연체 중인 경우는 명확히 결론 내릴 수 없기 때문에 제외하고, 'Fully Paid'와 'Charged Off' 두가지 값을 타겟 특성의 value로 설정\n",
        "\n",
        "df = df_origin[df_origin.loan_status.isin(['Fully Paid', 'Charged Off'])]\n",
        "df.info()\n",
        "# 두가지만 남기니 32,834개의 행이 남음"
      ],
      "execution_count": null,
      "outputs": []
    },
    {
      "cell_type": "code",
      "metadata": {
        "id": "53Zrjxbz3Isr"
      },
      "source": [
        "# 타겟값 설정을 위해 Fully Paid': 1, 'Charged Off': 0로 맵핑 진행\n",
        "mapping = {'Fully Paid': 1, 'Charged Off': 0}\n",
        "df['loan_status'] = df['loan_status'].map(mapping).astype(int)"
      ],
      "execution_count": null,
      "outputs": []
    },
    {
      "cell_type": "code",
      "metadata": {
        "id": "q9gG4M_C2aSU"
      },
      "source": [
        "# 기준모델 설정을 위해 타겟의 비율 확인\n",
        "df[target].value_counts(normalize=True)"
      ],
      "execution_count": null,
      "outputs": []
    },
    {
      "cell_type": "code",
      "metadata": {
        "id": "-pfWrKgmnGfv"
      },
      "source": [
        "# 전액 상환 한 비율은 0.835536 따라서 이를 기준모델로 설정하고 예측을 진행\n",
        "base_line = 0.835536"
      ],
      "execution_count": null,
      "outputs": []
    },
    {
      "cell_type": "code",
      "metadata": {
        "id": "kubYuUtg-6Ke"
      },
      "source": [
        "# 데이터 전처리 진행\n",
        "\n",
        "# 50을 초과하는 카디널리티를 가진 행 제거\n",
        "selected_cols = df.select_dtypes(include=['number', 'object'])\n",
        "colnames = selected_cols.columns.tolist()\n",
        "labels = selected_cols.nunique()\n",
        "    \n",
        "selected_features = labels[labels <= 50].index.tolist()\n",
        "df = df[selected_features]\n",
        "df.head()"
      ],
      "execution_count": null,
      "outputs": []
    },
    {
      "cell_type": "code",
      "metadata": {
        "id": "aVJku0tO9-aA"
      },
      "source": [
        "# 여전히 너무 많은 행이 존재함\n",
        "# 결측치가 과도하게 많은 행 제거 필요\n",
        "\n",
        "# 결측치 갯수 확인\n",
        "df.isnull().sum().sort_values(ascending=False).head(50)"
      ],
      "execution_count": null,
      "outputs": []
    },
    {
      "cell_type": "code",
      "metadata": {
        "id": "9WVHIGdI-PCx"
      },
      "source": [
        "# 결측치가 3천개(약 10%) 이상 존재하는 행 제거\n",
        "df = df.dropna(axis=1, thresh=3000)\n",
        "df.head()"
      ],
      "execution_count": null,
      "outputs": []
    },
    {
      "cell_type": "code",
      "metadata": {
        "id": "i9IHCF43qCcn"
      },
      "source": [
        "# 하나의 값만 가지고 있는 행 삭제 (변별력 없음)\n",
        "drop_cols = [c for c\n",
        "             in list(df)\n",
        "             if df[c].nunique() <= 1]\n",
        "df = df.drop(columns=drop_cols)\n",
        "df.head()"
      ],
      "execution_count": null,
      "outputs": []
    },
    {
      "cell_type": "code",
      "metadata": {
        "id": "_yAz5CHFAJPe"
      },
      "source": [
        "# 데이터셋 요약해서 보기\n",
        "df.profile_report()"
      ],
      "execution_count": null,
      "outputs": []
    },
    {
      "cell_type": "code",
      "metadata": {
        "id": "0kE0zJyEwDi1"
      },
      "source": [
        "# profile_report를 통한 데이터 탐색을 기반으로 일부 특성 제거\n",
        "drop_list = ['purpose', 'acc_now_delinq', 'chargeoff_within_12_mths', 'delinq_amnt', 'num_tl_30dpd', 'num_tl_90g_dpd_24m', 'tax_liens', 'debt_settlement_flag',\n",
        "             'inq_last_6mths', 'last_pymnt_d', 'last_credit_pull_d', 'grade']\n",
        "df = df.drop(drop_list, axis=1)\n",
        "\n",
        "\n",
        "# 삭제 이유\n",
        "# purpose: title과 동일한 목적 (purpose 대출인이 작성한 대출목적, title 회사에서 입력한 대출목적)\n",
        "# acc_now_delinq, delinq_amnt, num_tl_30dpd, num_tl_90g_dpd_24m, tax_liens, debt_settlement_flag: 특정 값이 절대 다수를 차지함 (95% 이상)\n",
        "# chargeoff_within_12_mths: 타겟값과 연관성이 높은 Feature라서 제외\n",
        "# inq_last_6mths, last_pymnt_d, last_credit_pull_d: 새로 대출이 발생했을 때 상환여부를 예측해야하는데, 최신 업데이트 값은 들어가서는 안됨\n",
        "# grade: 더 상세하게 분류되어 있는 sub_grade가 있음"
      ],
      "execution_count": null,
      "outputs": []
    },
    {
      "cell_type": "code",
      "metadata": {
        "id": "FNddWoNEq3eg"
      },
      "source": [
        "# 특성 간의 상관관계 분석을 위해 피어슨 상관계수 분석\n",
        "sns.set(style=\"whitegrid\", font_scale=1)\n",
        "\n",
        "plt.figure(figsize=(18,18))\n",
        "plt.title('Pearson Correlation Matrix',fontsize=22)\n",
        "sns.heatmap(df.corr(),linewidths=0.25,vmax=0.7,square=True,cmap=\"GnBu\",linecolor='w',\n",
        "            annot=True, annot_kws={\"size\":10}, cbar_kws={\"shrink\": .7})"
      ],
      "execution_count": null,
      "outputs": []
    },
    {
      "cell_type": "code",
      "metadata": {
        "id": "QvZwHxvoqqSe"
      },
      "source": [
        "# 타겟값이 아님에도 불구하고 상관계수가 0.7이상인 값들은 둘 중 하나의 feature만 남기고 제거\n",
        "high_corr = ['pub_rec', 'num_actv_bc_tl', 'num_actv_rev_tl', 'num_bc_sats', 'num_bc_tl', 'num_op_rev_tl', 'open_rv_12m', 'num_rev_tl_bal_gt_0', 'num_tl_op_past_12m', 'acc_open_past_24mths', 'fico_range_low']\n",
        "df = df.drop(high_corr, axis=1)"
      ],
      "execution_count": null,
      "outputs": []
    },
    {
      "cell_type": "code",
      "metadata": {
        "id": "KIp_C2nw3hoT"
      },
      "source": [
        "df.info()"
      ],
      "execution_count": null,
      "outputs": []
    },
    {
      "cell_type": "code",
      "metadata": {
        "id": "CSYkU_0Q44e_"
      },
      "source": [
        "# train / test 셋 분리\n",
        "train, test = train_test_split(df, train_size=0.80, test_size=0.20, \n",
        "                              stratify=df[target], random_state=2)\n",
        "\n",
        "train.shape, test.shape"
      ],
      "execution_count": null,
      "outputs": []
    },
    {
      "cell_type": "code",
      "metadata": {
        "id": "j2EqZdt5-1PY"
      },
      "source": [
        "# 타겟값 나누기\n",
        "features = df.columns.drop(target)\n",
        "\n",
        "X_train = train[features]\n",
        "y_train = train[target]\n",
        "X_test = test[features]\n",
        "y_test = test[target]\n",
        "\n",
        "X_train.shape, X_test.shape"
      ],
      "execution_count": null,
      "outputs": []
    },
    {
      "cell_type": "code",
      "metadata": {
        "id": "valSJeV__P2C"
      },
      "source": [
        "X_train.head()"
      ],
      "execution_count": null,
      "outputs": []
    },
    {
      "cell_type": "code",
      "metadata": {
        "id": "EYKY4pi7_8dh"
      },
      "source": [
        "# Feature의 데이터 특성에 따라 적용할 인코더를 다르게 설정\n",
        "\n",
        "#순서 없고 범주형인 Feature - TargetEncoder\n",
        "tg_cat_cha = ['term', 'home_ownership', 'verification_status', 'issue_d', 'title', 'addr_state', 'initial_list_status', 'application_type', 'disbursement_method']\n",
        "\n",
        "#순서 있고 범주형인 Feature 중에서 Mapping 지정할 것 - OrdinalEncoder\n",
        "ord_cat_mapping_cha =[\n",
        "                      {'col': 'sub_grade', 'mapping': {'A1': 35, 'A2': 34, 'A3': 33, 'A4': 32, 'A5': 31, \n",
        "                                                       'B1': 30, 'B2': 29, 'B3': 28, 'B4': 27, 'B5': 26,\n",
        "                                                       'C1': 25, 'C2': 24, 'C3': 23, 'C4': 22, 'C5': 21,\n",
        "                                                       'D1': 20, 'D2': 19, 'D3': 18, 'D4': 17, 'D5': 16,\n",
        "                                                       'E1': 15, 'E2': 14, 'E3': 13, 'E4': 12, 'E5': 11,\n",
        "                                                       'F1': 10, 'F2': 9, 'F3': 8, 'F4': 7, 'F5': 6,\n",
        "                                                       'G1': 5, 'G2': 4, 'G3': 3, 'G4': 2, 'G5': 1}},\n",
        "                      {'col': 'emp_length', 'mapping': {'< 1 year':0.5,\n",
        "                                                        '1 year':1,\n",
        "                                                        '2 years':2,\n",
        "                                                        '3 years':3,\n",
        "                                                        '4 years':4,\n",
        "                                                        '5 years':5,\n",
        "                                                        '6 years':6,\n",
        "                                                        '7 years':7,\n",
        "                                                        '8 years':8,\n",
        "                                                        '9 years':9,\n",
        "                                                        '10+ years':10}}\n",
        "                                                        ]"
      ],
      "execution_count": null,
      "outputs": []
    },
    {
      "cell_type": "code",
      "metadata": {
        "id": "Pam8qUTMNP8h"
      },
      "source": [
        "# 선형회귀, 로지스틱 회귀, 랜덤포레스트, XGBoost 총 4개의 모델을 가지고 기본적인 성능을 테스트\n",
        "\n",
        "# linear regression 파이프라인 설정\n",
        "linear = make_pipeline(\n",
        "            TargetEncoder(cols = tg_cat_cha, smoothing = 400.0),\n",
        "            OrdinalEncoder(mapping = ord_cat_mapping_cha, handle_missing = 'value'),\n",
        "            SimpleImputer(strategy = 'mean'),\n",
        "            StandardScaler(),\n",
        "            LinearRegression()\n",
        "            )"
      ],
      "execution_count": null,
      "outputs": []
    },
    {
      "cell_type": "code",
      "metadata": {
        "id": "FCeueSLnTQBI"
      },
      "source": [
        "# linear regression 모델 적용\n",
        "linear.fit(X_train, y_train)"
      ],
      "execution_count": null,
      "outputs": []
    },
    {
      "cell_type": "code",
      "metadata": {
        "id": "lHVLnB2iTnoX"
      },
      "source": [
        "print('linear regression 예측 정확도: ', linear.score(X_test, y_test))"
      ],
      "execution_count": null,
      "outputs": []
    },
    {
      "cell_type": "code",
      "metadata": {
        "id": "07aDylshS-9W"
      },
      "source": [
        "# Logistic regression 파이프라인 설정\n",
        "logistic = make_pipeline(\n",
        "            TargetEncoder(cols = tg_cat_cha, smoothing = 400.0),\n",
        "            OrdinalEncoder(mapping = ord_cat_mapping_cha, handle_missing = 'value'),\n",
        "            SimpleImputer(strategy = 'mean'),\n",
        "            StandardScaler(),\n",
        "            LogisticRegression(max_iter=1000)\n",
        "            )"
      ],
      "execution_count": null,
      "outputs": []
    },
    {
      "cell_type": "code",
      "metadata": {
        "id": "YwzwRXFVT-eh"
      },
      "source": [
        "# Logistic regression 모델 적용\n",
        "logistic.fit(X_train, y_train)"
      ],
      "execution_count": null,
      "outputs": []
    },
    {
      "cell_type": "code",
      "metadata": {
        "id": "ZPtdmM8fUFR0"
      },
      "source": [
        "print('Logistic regression 예측 정확도: ', logistic.score(X_test, y_test))"
      ],
      "execution_count": null,
      "outputs": []
    },
    {
      "cell_type": "code",
      "metadata": {
        "id": "2YLK5KLOMOzf"
      },
      "source": [
        "# RandomForest 파이프라인 설정\n",
        "random_f = make_pipeline(\n",
        "            TargetEncoder(cols = tg_cat_cha),\n",
        "            OrdinalEncoder(mapping = ord_cat_mapping_cha, handle_missing = 'value'),\n",
        "            SimpleImputer(strategy = 'mean'),\n",
        "            RandomForestClassifier(random_state = 2, n_jobs = -1, oob_score=True)\n",
        "            )"
      ],
      "execution_count": null,
      "outputs": []
    },
    {
      "cell_type": "code",
      "metadata": {
        "id": "KPTM8berURZT"
      },
      "source": [
        "# RandomForest 모델 적용\n",
        "random_f.fit(X_train, y_train)"
      ],
      "execution_count": null,
      "outputs": []
    },
    {
      "cell_type": "code",
      "metadata": {
        "id": "3YzIyHzrUaYQ"
      },
      "source": [
        "print('RandomForest 예측 정확도: ', random_f.score(X_test, y_test))"
      ],
      "execution_count": null,
      "outputs": []
    },
    {
      "cell_type": "code",
      "metadata": {
        "id": "33_tGVDotmy8"
      },
      "source": [
        "# XGBoost 파이프라인 설정\n",
        "XGB = make_pipeline(\n",
        "            TargetEncoder(cols = tg_cat_cha, smoothing = 400),\n",
        "            OrdinalEncoder(mapping = ord_cat_mapping_cha, handle_missing = 'value'),\n",
        "            SimpleImputer(strategy = 'mean'),\n",
        "            XGBClassifier(random_state=2, n_jobs=-1, objective= 'binary:logistic', base_score=0.835536)\n",
        "            )"
      ],
      "execution_count": null,
      "outputs": []
    },
    {
      "cell_type": "code",
      "metadata": {
        "id": "AKV2LnpVukyD"
      },
      "source": [
        "# XGBoost 모델 적용\n",
        "XGB.fit(X_train, y_train)"
      ],
      "execution_count": null,
      "outputs": []
    },
    {
      "cell_type": "code",
      "metadata": {
        "id": "YUNnTadlusOR"
      },
      "source": [
        "print('XGBoost 예측 정확도: ', XGB.score(X_test, y_test))"
      ],
      "execution_count": null,
      "outputs": []
    },
    {
      "cell_type": "code",
      "metadata": {
        "id": "WznLAJ4n5-TV"
      },
      "source": [
        "from sklearn.metrics import roc_auc_score\n",
        "class_index = 1\n",
        "y_pred_proba = XGB.predict_proba(X_test)[:, class_index]\n",
        "print(f'Test AUC for class Fully paid:')\n",
        "print(roc_auc_score(y_test, y_pred_proba)) # 범위는 0-1, 수치는 높을 수록 좋음"
      ],
      "execution_count": null,
      "outputs": []
    },
    {
      "cell_type": "code",
      "metadata": {
        "id": "bv1EmQLjaT9K"
      },
      "source": [
        "print('기준모델: ', base_line)"
      ],
      "execution_count": null,
      "outputs": []
    },
    {
      "cell_type": "markdown",
      "metadata": {
        "id": "yp2RVa9hZ1St"
      },
      "source": [
        "linear regression 예측 정확도:  0.090\n",
        "\n",
        "Logistic regression 예측 정확도:  0.839\n",
        "\n",
        "RandomForest 예측 정확도:  0.839 (AUC score 0.737)\n",
        "\n",
        "XGBoost 예측 정확도: 0.840\n",
        "\n",
        "기준모델:  0.835536\n",
        "\n",
        "분류 모델이기 때문에 선형회귀분석의 정확도가 가장 낮게 나온 것은 예상했던 결과\n",
        "\n",
        "그러나 가장 높은 정확도를 예상했던 XGBoost가 로지스틱 회귀와 비슷하게\n",
        "\n",
        "XGBoost의 하이퍼파라미터 값을 조정해서 가장 높은 정확도를 얻는 것이 목표\n"
      ]
    },
    {
      "cell_type": "code",
      "metadata": {
        "id": "X6IeFFbMbAx-"
      },
      "source": [
        "# 최적의 K 찾기 - 교차 검증\n",
        "k = list(range(3, 8))\n",
        "for i in k :\n",
        "        scores = cross_val_score(XGB, X_train, y_train, cv=i, \n",
        "        scoring = 'accuracy')\n",
        "        print(f'Accuracy', scores)\n",
        "        print(f'Accuracy mean', scores.mean())\n",
        "\n",
        "# K가 6일 때 좋은 결과를 보임"
      ],
      "execution_count": null,
      "outputs": []
    },
    {
      "cell_type": "code",
      "metadata": {
        "id": "i2PGSDmJssW6"
      },
      "source": [
        "'''\n",
        "# 최적의 하이퍼 파라미터 찾기\n",
        "dists = {\n",
        "    'targetencoder__smoothing': [100.,150.,300.,500.],  \n",
        "    'xgbclassifier__n_estimators': [100, 300, 500, 1000], \n",
        "    'xgbclassifier__max_depth': [5, 10, 15, 20], \n",
        "    'xgbclassifier__min_child_weight':range(1,6,2), # 과적합(overfitting)을 방지할 목적으로 사용\n",
        "    'xgbclassifier__gamma':[i/10.0 for i in range(0,5)],\n",
        "    'xgbclassifier__subsample':[i/10.0 for i in range(6,10)], # 개별 의사결정나무 모형에 사용되는 임의 표본수를 지정\n",
        "    'xgbclassifier__colsample_bytree':[i/10.0 for i in range(6,10)], # 개별 의사결정나무 모형에 사용될 변수갯수를 지정\n",
        "    'xgbclassifier__learning_rate': [0.01, 0.05, 0.1, 0.2, 0.3]\n",
        "}\n",
        "\n",
        "# n_iter(=10) * 6 교차검증 = 60 tasks 수행\n",
        "clf = RandomizedSearchCV(\n",
        "    XGB, \n",
        "    param_distributions=dists,\n",
        "    n_iter=10, \n",
        "    cv=6, \n",
        "    scoring='accuracy',  \n",
        "    verbose=1\n",
        ")\n",
        "\n",
        "clf.fit(X_train, y_train);\n",
        "print('최적 하이퍼 파라미터: ', clf.best_params_)\n",
        "print('Accuracy: ', clf.best_score_)\n",
        "'''"
      ],
      "execution_count": null,
      "outputs": []
    },
    {
      "cell_type": "markdown",
      "metadata": {
        "id": "IDDXFZpC46ua"
      },
      "source": [
        "최적 하이퍼 파라미터: \n",
        "\n",
        "'xgbclassifier__subsample': 0.9\n",
        "\n",
        "'xgbclassifier__n_estimators': 1000\n",
        "\n",
        "'xgbclassifier__min_child_weight': 3\n",
        "\n",
        "'xgbclassifier__max_depth': 5\n",
        "\n",
        "'xgbclassifier__learning_rate': 0.01\n",
        "\n",
        "'xgbclassifier__gamma': 0.0\n",
        "\n",
        "'xgbclassifier__colsample_bytree': 0.8\n",
        "\n",
        "'targetencoder__smoothing': 150.0\n",
        "\n",
        "\n",
        "Accuracy:  0.8385426728633508"
      ]
    },
    {
      "cell_type": "code",
      "metadata": {
        "id": "eI_jIkIJt7Ag"
      },
      "source": [
        "# 위의 최적 파라미터 값을 대입하여 XGBoost 파이프라인 설정\n",
        "XGB_final = make_pipeline(\n",
        "            TargetEncoder(cols = tg_cat_cha, smoothing=150),\n",
        "            OrdinalEncoder(mapping = ord_cat_mapping_cha, handle_missing = 'value'),\n",
        "            SimpleImputer(strategy = 'mean'),\n",
        "            XGBClassifier(random_state=2, n_jobs=-1, objective= 'binary:logistic', base_score=0.835536, n_estimators=1000,\n",
        "                          subsample=0.9,min_child_weight=3, max_depth=5,learning_rate=0.01, gamma=0.0, colsample_bytree=0.8)\n",
        "            )"
      ],
      "execution_count": null,
      "outputs": []
    },
    {
      "cell_type": "code",
      "metadata": {
        "id": "7q8kBMBR7RyC"
      },
      "source": [
        "# XGBoost 모델 적용 (하이퍼파라미터 세팅)\n",
        "XGB_final.fit(X_train, y_train)"
      ],
      "execution_count": null,
      "outputs": []
    },
    {
      "cell_type": "code",
      "metadata": {
        "id": "Ef7ynaFo7gJh"
      },
      "source": [
        "print('XGBoost 예측 정확도: ', XGB_final.score(X_test, y_test))"
      ],
      "execution_count": null,
      "outputs": []
    },
    {
      "cell_type": "code",
      "metadata": {
        "id": "_F9vmm1_NSOM"
      },
      "source": [
        "from sklearn.metrics import roc_auc_score\n",
        "class_index = 1\n",
        "y_pred_proba = XGB_final.predict_proba(X_test)[:, class_index]\n",
        "print(f'Test AUC for class Fully paid:')\n",
        "print(roc_auc_score(y_test, y_pred_proba)) # 범위는 0-1, 수치는 높을 수록 좋음"
      ],
      "execution_count": null,
      "outputs": []
    },
    {
      "cell_type": "markdown",
      "metadata": {
        "id": "86JThT3m6Eva"
      },
      "source": [
        "XGBoost 예측 정확도  0.841, AUC Score가 0.739로 하이퍼 파라미터 세팅 후 모두 향상 됨"
      ]
    },
    {
      "cell_type": "code",
      "metadata": {
        "id": "xNCOxCIJNzsS"
      },
      "source": [
        "# Confution matrix를 확인\n",
        "from sklearn.metrics import classification_report\n",
        "y_test_pred = XGB_final.predict(X_test)\n",
        "print(classification_report(y_test, y_test_pred))"
      ],
      "execution_count": null,
      "outputs": []
    },
    {
      "cell_type": "code",
      "metadata": {
        "id": "lnHv4ISRH1cJ"
      },
      "source": [
        "# Confution matrix를 확인\n",
        "\n",
        "from sklearn.metrics import classification_report\n",
        "y_test_pred = XGB_final.predict(X_test)\n",
        "print(classification_report(y_test, y_test_pred))\n",
        "\n",
        "from sklearn.metrics import plot_confusion_matrix\n",
        "import matplotlib.pyplot as plt\n",
        "\n",
        "fig, ax = plt.subplots()\n",
        "pcm = plot_confusion_matrix(XGB_final, X_test, y_test,\n",
        "                            cmap=plt.cm.Blues,\n",
        "                            ax=ax, values_format='');\n",
        "plt.title(f'Confusion matrix, n = {len(y_test)}', fontsize=15)\n",
        "plt.show()"
      ],
      "execution_count": null,
      "outputs": []
    },
    {
      "cell_type": "markdown",
      "metadata": {
        "id": "bS2B0W8eIMm6"
      },
      "source": [
        "상환할 것으로 예상했지만 실제로 부실인 경우가 굉장히 높게 나타남"
      ]
    },
    {
      "cell_type": "code",
      "metadata": {
        "id": "3x-gtZ7pIKz6"
      },
      "source": [
        "tp = 5450\n",
        "tn = 74\n",
        "fp = 1006\n",
        "fn = 37\n",
        "total = tp + tn + fp + fn\n",
        "\n",
        "positives = tp + fp\n",
        "print('정밀도: ', tp/positives)\n",
        "\n",
        "real_positives = tp + fn\n",
        "print('재현율: ', tp/real_positives)"
      ],
      "execution_count": null,
      "outputs": []
    }
  ]
}